{
 "cells": [
  {
   "cell_type": "code",
   "execution_count": 1,
   "id": "0ef5d6fd",
   "metadata": {},
   "outputs": [],
   "source": [
    "import argparse\n",
    "import numpy as np\n",
    "import plotly\n",
    "import plotly.figure_factory as ff\n",
    "from skimage import measure\n",
    "import sys,os\n",
    "import trimesh\n",
    "import open3d as o3d\n",
    "from scipy.interpolate import Rbf\n",
    "from scipy.spatial import Delaunay\n",
    "from pyntcloud import PyntCloud\n",
    "from sklearn.neighbors import KDTree"
   ]
  },
  {
   "cell_type": "markdown",
   "id": "674cf884",
   "metadata": {},
   "source": [
    "### Define Naive, MLS, RBF Reconstruction"
   ]
  },
  {
   "cell_type": "code",
   "execution_count": 2,
   "id": "837395c4",
   "metadata": {},
   "outputs": [],
   "source": [
    "def knnsearch(Q, R, K):\n",
    "    \"\"\"\n",
    "    KNNSEARCH   Linear k-nearest neighbor (KNN) search\n",
    "    IDX = knnsearch(Q,R,K) searches the reference data set R (n x d array\n",
    "    representing n points in a d-dimensional space) to find the k-nearest\n",
    "    neighbors of each query point represented by eahc row of Q (m x d array).\n",
    "    The results are stored in the (m x K) index array, IDX. \n",
    "    \n",
    "    Rationality\n",
    "    Linear KNN search is the simplest appraoch of KNN. The search is based on\n",
    "    calculation of all distances. Therefore, it is normally believed only\n",
    "    suitable for small data sets. However, other advanced approaches, such as\n",
    "    kd-tree and delaunary become inefficient when d is large comparing to the\n",
    "    number of data points.\n",
    "    %\n",
    "    See also, kdtree, nnsearch, delaunary, dsearch\n",
    "    By Yi Cao at Cranfield University on 25 March 2008\n",
    "    \"\"\"\n",
    "\n",
    "    N, M = Q.shape\n",
    "    idx = np.zeros((N, K), dtype = int)\n",
    "    D = np.zeros((N, K))\n",
    "    fident = np.array_equal(Q, R)\n",
    "    if K==1:\n",
    "        for k in range(0, N):\n",
    "            d = np.sum((R[:, :] - Q[k, :]) ** 2, axis=1)\n",
    "            if fident:\n",
    "                d[k] = float('inf')\n",
    "            D[k] = np.min(d)\n",
    "            idx[k] = np.argmin(d)\n",
    "    else:\n",
    "        for k in range(0, N):\n",
    "            d = np.sum((R[:, :] - Q[k, :]) ** 2, axis=1)\n",
    "            if fident:\n",
    "                d[k] = float('inf')\n",
    "            D[k, :] = np.sort(d)[:K]\n",
    "            idx[k, :] = np.argsort(d)[:K]\n",
    "    print(\"==>Nearest neighbour search completed!\")\n",
    "    return idx"
   ]
  },
  {
   "cell_type": "code",
   "execution_count": 3,
   "id": "54d59669",
   "metadata": {},
   "outputs": [],
   "source": [
    "def naiveReconstruction(Mesh_v,Mesh_nor):\n",
    "    \"\"\"\n",
    "    surface reconstruction with an implicit function f(x,y,z) representing\n",
    "    signed distance to the tangent plane of the surface point nearest to each \n",
    "    point (x,y,z)\n",
    "    input: filename of a point cloud\n",
    "    output: reconstructed mesh\n",
    "    \"\"\"\n",
    "    points = Mesh_v\n",
    "    normals = Mesh_nor\n",
    "\n",
    "\n",
    "    # construct a 3D NxNxN grid containing the point cloud\n",
    "    # each grid point stores the implicit function value\n",
    "    # set N=16 for quick debugging, use *N=64* for reporting results\n",
    "    N = 64\n",
    "    max_dimensions = np.max(points,axis=0) # largest x, largest y, largest z coordinates among all surface points\n",
    "    min_dimensions = np.min(points,axis=0) # smallest x, smallest y, smallest z coordinates among all surface points\n",
    "    bounding_box_dimensions = max_dimensions - min_dimensions # compute the bounding box dimensions of the point cloud\n",
    "    grid_spacing = max(bounding_box_dimensions)/(N-9) # each cell in the grid will have the same size\n",
    "    X, Y, Z =np.meshgrid(list(np.arange(min_dimensions[0]-grid_spacing*4, max_dimensions[0]+grid_spacing*4, grid_spacing)),\n",
    "                         list(np.arange(min_dimensions[1] - grid_spacing * 4, max_dimensions[1] + grid_spacing * 4,\n",
    "                                    grid_spacing)),\n",
    "                         list(np.arange(min_dimensions[2] - grid_spacing * 4, max_dimensions[2] + grid_spacing * 4,\n",
    "                                    grid_spacing)))\n",
    "    \n",
    "    complete_mesh = np.array([X.reshape(-1), Y.reshape(-1), Z.reshape(-1)]).transpose()\n",
    "    \n",
    "    \n",
    "    # idx stores the index to the nearest surface point for each grid point.\n",
    "    # we use provided knnsearch function\n",
    "    Q = complete_mesh # grid points\n",
    "    R = points # surface points\n",
    "    K = 1\n",
    "    idx = knnsearch(Q, R, K)\n",
    "    IF = np.zeros(shape=(Q.shape[0],1))\n",
    "    # print((Q[idx[0]] - R[idx[0]])[0])\n",
    "    \n",
    "    for i in range(Q.shape[0]):\n",
    "        normal = normals[idx[i]][0]\n",
    "        p_minus_pj = Q[i] - R[idx[i]][0]\n",
    "        IF[i] = normal[0] * p_minus_pj[0] + normal[1] * p_minus_pj[1] + normal[2] * p_minus_pj[2]\n",
    "\n",
    "    IF = IF.reshape(X.shape)\n",
    "\n",
    "    verts, simplices = measure.marching_cubes_classic(IF, 0)\n",
    "    recon_mesh = trimesh.Trimesh(vertices = verts,faces = simplices)\n",
    "    return recon_mesh"
   ]
  },
  {
   "cell_type": "code",
   "execution_count": 4,
   "id": "c3101a4e",
   "metadata": {},
   "outputs": [],
   "source": [
    "def mlsReconstruction(Mesh_v,Mesh_nor):\n",
    "    \"\"\"\n",
    "    surface reconstruction with an implicit function f(x,y,z) representing\n",
    "    MLS distance to the tangent plane of the input surface points \n",
    "    input: filename of a point cloud\n",
    "    output: reconstructed mesh\n",
    "    \"\"\"\n",
    "    \n",
    "    points = Mesh_v\n",
    "    normals = Mesh_nor\n",
    "\n",
    "\n",
    "    # construct a 3D NxNxN grid containing the point cloud\n",
    "    # each grid point stores the implicit function value\n",
    "    # set N=16 for quick debugging, use *N=64* for reporting results\n",
    "    N = 64\n",
    "    max_dimensions = np.max(points,axis=0) # largest x, largest y, largest z coordinates among all surface points\n",
    "    min_dimensions = np.min(points,axis=0) # smallest x, smallest y, smallest z coordinates among all surface points\n",
    "    bounding_box_dimensions = max_dimensions - min_dimensions # compute the bounding box dimensions of the point cloud\n",
    "    grid_spacing = max(bounding_box_dimensions)/(N-9) # each cell in the grid will have the same size\n",
    "    X, Y, Z =np.meshgrid(list(np.arange(min_dimensions[0]-grid_spacing*4, max_dimensions[0]+grid_spacing*4, grid_spacing)),\n",
    "                         list(np.arange(min_dimensions[1] - grid_spacing * 4, max_dimensions[1] + grid_spacing * 4,\n",
    "                                    grid_spacing)),\n",
    "                         list(np.arange(min_dimensions[2] - grid_spacing * 4, max_dimensions[2] + grid_spacing * 4,\n",
    "                                    grid_spacing)))\n",
    "    \n",
    "    # idx stores the index to the nearest surface point for each grid point.\n",
    "    # we use provided knnsearch function\n",
    "    Q = np.array([X.reshape(-1), Y.reshape(-1), Z.reshape(-1)]).transpose()\n",
    "    R = points\n",
    "    K = 20\n",
    "    idx = knnsearch(Q, R, K)\n",
    "    IF = np.zeros(shape=(Q.shape[0],1))\n",
    "\n",
    "\n",
    "    nearest_surface_point_to_self = knnsearch(R, R, 1)\n",
    "    linalg = np.linalg.norm(R - R[nearest_surface_point_to_self][:,0], axis=1)\n",
    "    distances_to_nearest_points = np.linalg.norm(R - R[nearest_surface_point_to_self][:,0], axis=1)\n",
    "    beta = 2 * np.mean(distances_to_nearest_points)\n",
    "    print(beta)\n",
    "\n",
    "    for j in range(Q.shape[0]):\n",
    "        sum_phi = 0\n",
    "        for i in range(20):\n",
    "            normal = normals[idx[j]][i]\n",
    "            p_minus_pi = Q[j] - R[idx[j]][i]\n",
    "            di_p = normal[0] * p_minus_pi[0] + normal[1] * p_minus_pi[1] + normal[2] * p_minus_pi[2]\n",
    "            phi = np.exp(-1*(np.linalg.norm(p_minus_pi)**2)/beta**2)\n",
    "            IF[j] += di_p*phi\n",
    "            sum_phi += phi\n",
    "        IF[j] = IF[j]/(sum_phi)\n",
    "\n",
    "    IF = IF.reshape(X.shape)\n",
    "\n",
    "\n",
    "    verts, simplices = measure.marching_cubes_classic(IF, 0)\n",
    "    recon_mesh = trimesh.Trimesh(vertices = verts,faces = simplices)\n",
    "    return recon_mesh"
   ]
  },
  {
   "cell_type": "code",
   "execution_count": 5,
   "id": "a266acd8",
   "metadata": {},
   "outputs": [],
   "source": [
    "def rbfReconstruction(Mesh_v,Mesh_nor):\n",
    "    \"\"\"\n",
    "    surface reconstruction with an implicit function f(x,y,z) computed\n",
    "    through RBF interpolation of the input surface points and normals\n",
    "    input: filename of a point cloud, parameter epsilon\n",
    "    output: reconstructed mesh\n",
    "    \"\"\"\n",
    "\n",
    "    points = Mesh_v\n",
    "    normals = Mesh_nor\n",
    "\n",
    "    epsilon = 1e-4\n",
    "    \n",
    "    # construct a 3D NxNxN grid containing the point cloud\n",
    "    # each grid point stores the implicit function value\n",
    "    # set N=16 for quick debugging, use *N=64* for reporting results\n",
    "    N = 64\n",
    "    max_dimensions = np.max(points,axis=0) # largest x, largest y, largest z coordinates among all surface points\n",
    "    min_dimensions = np.min(points,axis=0) # smallest x, smallest y, smallest z coordinates among all surface points\n",
    "    bounding_box_dimensions = max_dimensions - min_dimensions # compute the bounding box dimensions of the point cloud\n",
    "    grid_spacing = max(bounding_box_dimensions)/(N-9) # each cell in the grid will have the same size\n",
    "    X, Y, Z =np.meshgrid(list(np.arange(min_dimensions[0]-grid_spacing*4, max_dimensions[0]+grid_spacing*4, grid_spacing)),\n",
    "                         list(np.arange(min_dimensions[1] - grid_spacing * 4, max_dimensions[1] + grid_spacing * 4,\n",
    "                                    grid_spacing)),\n",
    "                         list(np.arange(min_dimensions[2] - grid_spacing * 4, max_dimensions[2] + grid_spacing * 4,\n",
    "                                    grid_spacing)))\n",
    "\n",
    "    Q = np.array([X.reshape(-1), Y.reshape(-1), Z.reshape(-1)]).transpose()\n",
    "    R = points\n",
    "    IF = np.zeros(shape=(Q.shape[0], 1)) #this is your implicit function - fill it with correct values!\n",
    "    fp = [0]*3*R.shape[0] #3N weights\n",
    "    fp[R.shape[0]:R.shape[0]*2] = [epsilon]*R.shape[0]   #for p + eps*n\n",
    "    fp[R.shape[0]*2:] = [-1*epsilon]*R.shape[0]   #for p - eps*n\n",
    "    fp = np.array(fp)\n",
    "    weights = np.zeros(3*R.shape[0])\n",
    "    offsets_1 = [ p + epsilon * normals[i] for i, p in enumerate(R)]\n",
    "    offsets_2 = [ p - epsilon * normals[i] for i, p in enumerate(R)]\n",
    "\n",
    "    all_points = np.concatenate((R, offsets_1, offsets_2))   #3N points\n",
    "    spline_phi = np.zeros((all_points.shape[0], all_points.shape[0]))\n",
    "    \n",
    "\n",
    "    for i in range(all_points.shape[0]):\n",
    "        pi = all_points[i]\n",
    "        for k in range(all_points.shape[0]):\n",
    "            ck = all_points[k]\n",
    "            r = np.linalg.norm(pi - ck) + 1e-8\n",
    "            spline_phi[i][k] = (r**2) * np.log(r)\n",
    "\n",
    "    weights = np.linalg.solve(spline_phi, fp)\n",
    "\n",
    "    IF = np.zeros(shape=(Q.shape[0], 1))\n",
    "    \n",
    "    for i in range(Q.shape[0]):\n",
    "        pi = Q[i]\n",
    "        pi = pi.reshape((1,3))\n",
    "        pi = np.repeat(pi, all_points.shape[0], axis=0)\n",
    "        r_vector = np.linalg.norm(pi - all_points, axis=1) + 1e-8\n",
    "        spline_phi_pi = (r_vector**2) * np.log(r_vector)\n",
    "        IF[i] = np.dot(spline_phi_pi, weights)\n",
    "\n",
    "    IF = IF.reshape(X.shape)\n",
    "\n",
    "    verts, simplices = measure.marching_cubes_classic(IF,0)\n",
    "    \n",
    "    recon_mesh = trimesh.Trimesh(vertices = verts,faces = simplices)\n",
    "    return recon_mesh"
   ]
  },
  {
   "cell_type": "markdown",
   "id": "1779c778",
   "metadata": {},
   "source": [
    "### The Plot function"
   ]
  },
  {
   "cell_type": "code",
   "execution_count": 6,
   "id": "5751dd4d",
   "metadata": {},
   "outputs": [],
   "source": [
    "def plotmesh(mesh):\n",
    "    out = o3d.geometry.TriangleMesh()\n",
    "    out.vertices=o3d.utility.Vector3dVector(mesh.vertices)\n",
    "    out.triangles = o3d.utility.Vector3iVector(mesh.faces)\n",
    "    out.compute_vertex_normals()\n",
    "    o3d.visualization.draw_geometries([out])"
   ]
  },
  {
   "cell_type": "code",
   "execution_count": 7,
   "id": "8103d71b",
   "metadata": {},
   "outputs": [],
   "source": [
    "def plotpoint(vertex):\n",
    "    out = o3d.geometry.PointCloud()\n",
    "    out.points=o3d.utility.Vector3dVector(vertex)\n",
    "    out.paint_uniform_color((0.2, 0.3, 0.5))\n",
    "    o3d.visualization.draw_geometries([out])"
   ]
  },
  {
   "cell_type": "markdown",
   "id": "d2b0c302",
   "metadata": {},
   "source": [
    "### Load mesh"
   ]
  },
  {
   "cell_type": "code",
   "execution_count": 8,
   "id": "c9921a56",
   "metadata": {},
   "outputs": [],
   "source": [
    "# # mesh_1 = os.path.join('./meshes/camel.obj')\n",
    "# mesh_1 = os.path.join('./meshes/bunny.obj')\n",
    "# # mesh_1 = os.path.join('./meshes/wheel.obj')\n",
    "# # mesh_1 = os.path.join('./meshes/dragon.obj')\n",
    "# assert os.path.exists(mesh_1), 'cannot found:'+mesh_1 \n",
    "# t_mesh_1 = trimesh.load(mesh_1) \n",
    "# t_mesh_1_v = t_mesh_1.vertices\n",
    "# t_mesh_1_nor = t_mesh_1.vertex_normals\n",
    "\n",
    "\n",
    "mesh = os.path.join('./meshes/camel.obj')\n",
    "assert os.path.exists(mesh), 'cannot found:'+mesh\n",
    "t_mesh = trimesh.load(mesh)\n",
    "t_mesh_v = t_mesh.vertices\n",
    "t_mesh_nor = t_mesh.vertex_normals"
   ]
  },
  {
   "cell_type": "markdown",
   "id": "50524126",
   "metadata": {},
   "source": [
    "### Show the mesh"
   ]
  },
  {
   "cell_type": "code",
   "execution_count": 9,
   "id": "05554051",
   "metadata": {},
   "outputs": [
    {
     "name": "stdout",
     "output_type": "stream",
     "text": [
      "\u001b[1;33m[Open3D WARNING] GLFW Error: Cocoa: Failed to find service port for display\u001b[0;m\n",
      "\u001b[1;33m[Open3D WARNING] GLFW Error: Cocoa: Failed to find service port for display\u001b[0;m\n"
     ]
    }
   ],
   "source": [
    "plotmesh(t_mesh)\n",
    "# t_mesh_1.export(f'./results/wheel/v_cloud1.obj')"
   ]
  },
  {
   "cell_type": "code",
   "execution_count": 10,
   "id": "8eef69db",
   "metadata": {},
   "outputs": [
    {
     "name": "stdout",
     "output_type": "stream",
     "text": [
      "\u001b[1;33m[Open3D WARNING] GLFW Error: Cocoa: Failed to find service port for display\u001b[0;m\n"
     ]
    }
   ],
   "source": [
    "plotpoint(t_mesh_v)"
   ]
  },
  {
   "cell_type": "markdown",
   "id": "e19dac8c",
   "metadata": {},
   "source": [
    "### RBF Reconstruction"
   ]
  },
  {
   "cell_type": "code",
   "execution_count": 11,
   "id": "cd60beb4",
   "metadata": {
    "scrolled": true
   },
   "outputs": [],
   "source": [
    "# verts1_rbf, simplices1_rbf = rbfReconstruction(t_mesh_1,1)\n",
    "recon_rbf = rbfReconstruction(t_mesh_v,t_mesh_nor)"
   ]
  },
  {
   "cell_type": "code",
   "execution_count": 12,
   "id": "4a8e7817",
   "metadata": {},
   "outputs": [
    {
     "name": "stdout",
     "output_type": "stream",
     "text": [
      "\u001b[1;33m[Open3D WARNING] GLFW Error: Cocoa: Failed to find service port for display\u001b[0;m\n"
     ]
    }
   ],
   "source": [
    "plotmesh(recon_rbf)\n",
    "# recon_rbf.export('./results/bunny/bunny_rbf.obj')"
   ]
  },
  {
   "cell_type": "markdown",
   "id": "5749aacb",
   "metadata": {},
   "source": [
    "### Naive Reconstruction"
   ]
  },
  {
   "cell_type": "code",
   "execution_count": 13,
   "id": "e090361d",
   "metadata": {},
   "outputs": [
    {
     "name": "stdout",
     "output_type": "stream",
     "text": [
      "==>Nearest neighbour search completed!\n"
     ]
    }
   ],
   "source": [
    "recon_naive = naiveReconstruction(t_mesh_v,t_mesh_nor)"
   ]
  },
  {
   "cell_type": "code",
   "execution_count": 14,
   "id": "cb4fa93e",
   "metadata": {},
   "outputs": [
    {
     "name": "stdout",
     "output_type": "stream",
     "text": [
      "\u001b[1;33m[Open3D WARNING] GLFW Error: Cocoa: Failed to find service port for display\u001b[0;m\n"
     ]
    }
   ],
   "source": [
    "plotmesh(recon_naive)\n",
    "# recon_naive.export('./results/bunny/bunny_naive.obj')"
   ]
  },
  {
   "cell_type": "markdown",
   "id": "0afd87df",
   "metadata": {},
   "source": [
    "### MLS Reconstruction"
   ]
  },
  {
   "cell_type": "code",
   "execution_count": 15,
   "id": "08c4ee73",
   "metadata": {
    "scrolled": true
   },
   "outputs": [
    {
     "name": "stdout",
     "output_type": "stream",
     "text": [
      "==>Nearest neighbour search completed!\n",
      "==>Nearest neighbour search completed!\n",
      "2.3751232270470295\n"
     ]
    }
   ],
   "source": [
    "recon_mls = mlsReconstruction(t_mesh_v,t_mesh_nor)"
   ]
  },
  {
   "cell_type": "code",
   "execution_count": 16,
   "id": "dd0fc1a3",
   "metadata": {},
   "outputs": [
    {
     "name": "stdout",
     "output_type": "stream",
     "text": [
      "\u001b[1;33m[Open3D WARNING] GLFW Error: Cocoa: Failed to find service port for display\u001b[0;m\n"
     ]
    }
   ],
   "source": [
    "plotmesh(recon_mls)\n",
    "# recon_mls.export('./results/bunny/bunny_mls.obj')"
   ]
  },
  {
   "cell_type": "markdown",
   "id": "40c358a1",
   "metadata": {},
   "source": [
    "### Large Point Cloud Reconstruction"
   ]
  },
  {
   "cell_type": "code",
   "execution_count": 17,
   "id": "8d17b309",
   "metadata": {},
   "outputs": [],
   "source": [
    "mesh_2 = os.path.join('./meshes/dragon.obj')\n",
    "assert os.path.exists(mesh_2), 'cannot found:'+mesh_2\n",
    "t_mesh_2 = trimesh.load(mesh_2)\n",
    "t_mesh_2_v = t_mesh_2.vertices\n",
    "t_mesh_2_nor = t_mesh_2.vertex_normals"
   ]
  },
  {
   "cell_type": "code",
   "execution_count": 18,
   "id": "d22c619e",
   "metadata": {},
   "outputs": [
    {
     "name": "stdout",
     "output_type": "stream",
     "text": [
      "==>Nearest neighbour search completed!\n"
     ]
    }
   ],
   "source": [
    "recon2_naive = naiveReconstruction(t_mesh_2_v,t_mesh_2_nor)"
   ]
  },
  {
   "cell_type": "code",
   "execution_count": 19,
   "id": "42590114",
   "metadata": {},
   "outputs": [
    {
     "name": "stdout",
     "output_type": "stream",
     "text": [
      "\u001b[1;33m[Open3D WARNING] GLFW Error: Cocoa: Failed to find service port for display\u001b[0;m\n"
     ]
    }
   ],
   "source": [
    "plotmesh(recon2_naive)"
   ]
  },
  {
   "cell_type": "code",
   "execution_count": 20,
   "id": "7bad5bd2",
   "metadata": {},
   "outputs": [
    {
     "name": "stdout",
     "output_type": "stream",
     "text": [
      "==>Nearest neighbour search completed!\n",
      "==>Nearest neighbour search completed!\n",
      "0.0011449192967129\n"
     ]
    },
    {
     "name": "stderr",
     "output_type": "stream",
     "text": [
      "/var/folders/72/mr36hktn5yn4bxcxfmb80rn80000gn/T/ipykernel_88311/2943411806.py:51: RuntimeWarning: invalid value encountered in divide\n",
      "  IF[j] = IF[j]/(sum_phi)\n",
      "/Users/linyingxiang/opt/miniconda3/envs/geo_tutorials/lib/python3.9/site-packages/skimage/measure/_marching_cubes_classic.py:259: RuntimeWarning: invalid value encountered in divide\n",
      "  grad_centroids = (grad_centroids /\n"
     ]
    }
   ],
   "source": [
    "recon2_mls = mlsReconstruction(t_mesh_2_v,t_mesh_2_nor)"
   ]
  },
  {
   "cell_type": "code",
   "execution_count": 21,
   "id": "a819ec88",
   "metadata": {},
   "outputs": [
    {
     "name": "stdout",
     "output_type": "stream",
     "text": [
      "\u001b[1;33m[Open3D WARNING] GLFW Error: Cocoa: Failed to find service port for display\u001b[0;m\n"
     ]
    }
   ],
   "source": [
    "plotmesh(recon2_mls)"
   ]
  },
  {
   "cell_type": "markdown",
   "id": "901b3d70",
   "metadata": {},
   "source": [
    "### Noised Point Cloud Reconstruction"
   ]
  },
  {
   "cell_type": "code",
   "execution_count": 22,
   "id": "126cb221",
   "metadata": {},
   "outputs": [],
   "source": [
    "def add_Gaussian_noise(mesh,noise_level):\n",
    "    vertices = np.array(mesh.vertices).copy()\n",
    "    vertices_scale = np.max(vertices,axis=0)-np.min(vertices,axis=0)\n",
    "    noise = noise_level * vertices_scale * np.random.randn(vertices.shape[0],vertices.shape[1])\n",
    "    noisy_mesh_vertices = vertices + noise\n",
    "    noisy_mesh = trimesh.Trimesh(vertices=noisy_mesh_vertices,faces=mesh.faces)\n",
    "    return noisy_mesh"
   ]
  },
  {
   "cell_type": "markdown",
   "id": "e4b616e8",
   "metadata": {},
   "source": [
    "### Load the original mesh"
   ]
  },
  {
   "cell_type": "code",
   "execution_count": 23,
   "id": "77c2a222",
   "metadata": {},
   "outputs": [],
   "source": [
    "mesh_ori = os.path.join('./meshes/dragon.obj')\n",
    "assert os.path.exists(mesh_ori), 'cannot found:'+mesh_ori \n",
    "t_mesh_ori = trimesh.load(mesh_ori)\n",
    "t_mesh_ori_v = t_mesh_ori.vertices\n",
    "t_mesh_ori_nor = t_mesh_ori.vertex_normals"
   ]
  },
  {
   "cell_type": "code",
   "execution_count": 24,
   "id": "1d2612a4",
   "metadata": {},
   "outputs": [
    {
     "name": "stdout",
     "output_type": "stream",
     "text": [
      "\u001b[1;33m[Open3D WARNING] GLFW Error: Cocoa: Failed to find service port for display\u001b[0;m\n"
     ]
    }
   ],
   "source": [
    "noise_mesh = add_Gaussian_noise(t_mesh_ori,0.001)\n",
    "noise_mesh_v = noise_mesh.vertices\n",
    "noise_mesh_nor = noise_mesh.vertex_normals\n",
    "# plotpoint(noise_mesh_v)\n",
    "plotmesh(noise_mesh)\n",
    "# noise_mesh.export('./results/dragon/noise_dragon.obj')"
   ]
  },
  {
   "cell_type": "code",
   "execution_count": 118,
   "id": "45f61fd6",
   "metadata": {},
   "outputs": [
    {
     "name": "stdout",
     "output_type": "stream",
     "text": [
      "==>Nearest neighbour search completed!\n"
     ]
    }
   ],
   "source": [
    "noise_dragon_naive = naiveReconstruction(noise_dragon_v,noise_dragon_nor)"
   ]
  },
  {
   "cell_type": "code",
   "execution_count": 155,
   "id": "2cab9a5d",
   "metadata": {},
   "outputs": [
    {
     "name": "stdout",
     "output_type": "stream",
     "text": [
      "\u001b[1;33m[Open3D WARNING] GLFW Error: Cocoa: Failed to find service port for display\u001b[0;m\n"
     ]
    }
   ],
   "source": [
    "plotfunction(noise_dragon_naive)\n",
    "# noise_dragon_naive.export('./results/dragon/noise_dragon_naive.obj')"
   ]
  },
  {
   "cell_type": "code",
   "execution_count": 158,
   "id": "ddf52eef",
   "metadata": {},
   "outputs": [
    {
     "name": "stdout",
     "output_type": "stream",
     "text": [
      "==>Nearest neighbour search completed!\n",
      "==>Nearest neighbour search completed!\n",
      "0.001076919688734251\n"
     ]
    },
    {
     "name": "stderr",
     "output_type": "stream",
     "text": [
      "/var/folders/72/mr36hktn5yn4bxcxfmb80rn80000gn/T/ipykernel_67317/1606610570.py:53: RuntimeWarning: invalid value encountered in divide\n",
      "  IF[j] = IF[j]/(sum_phi)\n",
      "/Users/linyingxiang/opt/miniconda3/envs/geo_tutorials/lib/python3.9/site-packages/skimage/measure/_marching_cubes_classic.py:259: RuntimeWarning: invalid value encountered in divide\n",
      "  grad_centroids = (grad_centroids /\n"
     ]
    }
   ],
   "source": [
    "noise_dragon_mls = mlsReconstruction(noise_dragon_v,noise_dragon_nor)"
   ]
  },
  {
   "cell_type": "code",
   "execution_count": 137,
   "id": "79d3704d",
   "metadata": {},
   "outputs": [
    {
     "ename": "NameError",
     "evalue": "name 'noise_dragon_mls' is not defined",
     "output_type": "error",
     "traceback": [
      "\u001b[0;31m---------------------------------------------------------------------------\u001b[0m",
      "\u001b[0;31mNameError\u001b[0m                                 Traceback (most recent call last)",
      "Cell \u001b[0;32mIn[137], line 1\u001b[0m\n\u001b[0;32m----> 1\u001b[0m plotfunction(\u001b[43mnoise_dragon_mls\u001b[49m)\n",
      "\u001b[0;31mNameError\u001b[0m: name 'noise_dragon_mls' is not defined"
     ]
    }
   ],
   "source": [
    "plotfunction(noise_dragon_mls)\n",
    "# noise_dragon_mls.export('./results/dragon/noise_dragon_mls.obj')"
   ]
  }
 ],
 "metadata": {
  "kernelspec": {
   "display_name": "Python 3 (ipykernel)",
   "language": "python",
   "name": "python3"
  },
  "language_info": {
   "codemirror_mode": {
    "name": "ipython",
    "version": 3
   },
   "file_extension": ".py",
   "mimetype": "text/x-python",
   "name": "python",
   "nbconvert_exporter": "python",
   "pygments_lexer": "ipython3",
   "version": "3.9.15"
  }
 },
 "nbformat": 4,
 "nbformat_minor": 5
}
